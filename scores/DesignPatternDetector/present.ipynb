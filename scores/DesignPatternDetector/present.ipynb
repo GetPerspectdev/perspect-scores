{
 "cells": [
  {
   "cell_type": "code",
   "execution_count": 2,
   "metadata": {},
   "outputs": [],
   "source": [
    "from gpt4all import GPT4All, Embed4All\n",
    "from datasets import load_dataset\n",
    "import numpy as np"
   ]
  },
  {
   "cell_type": "code",
   "execution_count": 2,
   "metadata": {},
   "outputs": [
    {
     "name": "stderr",
     "output_type": "stream",
     "text": [
      "Found cached dataset csv (/Users/cbrousseau/.cache/huggingface/datasets/csv/default-685334c93e7b8bc1/0.0.0/eea64c71ca8b46dd3f537ed218fc9bf495d5707789152eb2764f5c78fa66d59d)\n"
     ]
    },
    {
     "data": {
      "text/plain": [
       "'Abstract Factory'"
      ]
     },
     "execution_count": 2,
     "metadata": {},
     "output_type": "execute_result"
    }
   ],
   "source": [
    "ds = load_dataset('csv', data_files=\"./data/Design_Patterns.csv\", split='train')\n",
    "ds[0]['Design Pattern']"
   ]
  },
  {
   "cell_type": "code",
   "execution_count": 15,
   "metadata": {},
   "outputs": [
    {
     "name": "stderr",
     "output_type": "stream",
     "text": [
      "/Users/cbrousseau/anaconda3/envs/designpatterns/lib/python3.11/site-packages/dill/_dill.py:1705: PicklingWarning: Cannot locate reference to <class '_ctypes.PyCFuncPtrType'>.\n",
      "  warnings.warn('Cannot locate reference to %r.' % (obj,), PicklingWarning)\n",
      "/Users/cbrousseau/anaconda3/envs/designpatterns/lib/python3.11/site-packages/dill/_dill.py:1707: PicklingWarning: Cannot pickle <class '_ctypes.PyCFuncPtrType'>: _ctypes.PyCFuncPtrType has recursive self-references that trigger a RecursionError.\n",
      "  warnings.warn('Cannot pickle %r: %s.%s has recursive self-references that trigger a RecursionError.' % (obj, obj.__module__, obj_name), PicklingWarning)\n"
     ]
    },
    {
     "name": "stdout",
     "output_type": "stream",
     "text": [
      "Found model file at  /Users/cbrousseau/.cache/gpt4all/ggml-all-MiniLM-L6-v2-f16.bin\n"
     ]
    },
    {
     "name": "stderr",
     "output_type": "stream",
     "text": [
      "                                                           "
     ]
    },
    {
     "name": "stdout",
     "output_type": "stream",
     "text": [
      "384\n"
     ]
    },
    {
     "name": "stderr",
     "output_type": "stream",
     "text": [
      "\r"
     ]
    }
   ],
   "source": [
    "def embed_texts(examples):\n",
    "    embedded = embedder.embed(examples['Code Example'])\n",
    "    return {\"embedding\": embedded}\n",
    "\n",
    "embedder = Embed4All()\n",
    "emb_ds = ds.map(embed_texts, batched=False)\n",
    "print(len(emb_ds[0]['embedding']))"
   ]
  },
  {
   "cell_type": "code",
   "execution_count": 4,
   "metadata": {},
   "outputs": [
    {
     "name": "stderr",
     "output_type": "stream",
     "text": [
      "100%|██████████| 1/1 [00:00<00:00, 1893.59it/s]\n"
     ]
    },
    {
     "data": {
      "text/plain": [
       "Dataset({\n",
       "    features: ['Code Example', 'Language', 'Design Pattern', 'Source', 'Unnamed: 4', 'embedding'],\n",
       "    num_rows: 64\n",
       "})"
      ]
     },
     "execution_count": 4,
     "metadata": {},
     "output_type": "execute_result"
    }
   ],
   "source": [
    "emb_ds.add_faiss_index(\"embedding\")"
   ]
  },
  {
   "cell_type": "code",
   "execution_count": 5,
   "metadata": {},
   "outputs": [
    {
     "name": "stderr",
     "output_type": "stream",
     "text": [
      "100%|██████████| 1/1 [00:00<00:00, 1385.17it/s]\n"
     ]
    }
   ],
   "source": [
    "emb_ds.add_faiss_index(\"embedding\")\n",
    "\n",
    "idx, knn = 1, 3\n",
    "\n",
    "rn, nl = \"\\r\\n\\r\\n\", \"\\n\"\n",
    "\n",
    "query = np.array(emb_ds[idx]['embedding'], dtype=np.float32)\n",
    "scores, samples = emb_ds.get_nearest_examples(\"embedding\", query, k=knn)"
   ]
  },
  {
   "cell_type": "code",
   "execution_count": 12,
   "metadata": {},
   "outputs": [
    {
     "name": "stdout",
     "output_type": "stream",
     "text": [
      "QUERY LABEL: Builder\n",
      "QUERY LANG: Python\n",
      "QUERY TEXT: from __future__ import annotations\n",
      "from abc import ABC, abstractmethod\n",
      "from typing import Any\n",
      "\n",
      "\n",
      "class Builder(ABC):\n",
      "    \"\"\"\n",
      "    The Builder interface specifies methods for creating the different parts [...]\n",
      "\n",
      "==================================================\n",
      "Retrieved Documents:\n",
      "==================================================\n",
      "TEXT:\n",
      "from __future__ import annotations\n",
      "from abc import ABC, abstractmethod\n",
      "from typing import Any\n",
      "\n",
      "\n",
      "class Builder(ABC):\n",
      "    \"\"\"\n",
      "    The Builder interface specifies methods for creating the different parts [...]\n",
      "LANGUAGE: Python\n",
      "SCORE: 0.00\n",
      "LABEL: Builder\n",
      "==================================================\n",
      "TEXT:\n",
      "from __future__ import annotations\n",
      "from abc import ABC, abstractmethod\n",
      "\n",
      "\n",
      "class Creator(ABC):\n",
      "    \"\"\"\n",
      "    The Creator class declares the factory method that is supposed to return an\n",
      "    object of a Pro [...]\n",
      "LANGUAGE: Python\n",
      "SCORE: 0.53\n",
      "LABEL: Factory\n",
      "==================================================\n",
      "TEXT:\n",
      "from __future__ import annotations\n",
      "from abc import ABC, abstractmethod\n",
      "\n",
      "\n",
      "class AbstractFactory(ABC):\n",
      "    \"\"\"\n",
      "    The Abstract Factory interface declares a set of methods that return\n",
      "    different abst [...]\n",
      "LANGUAGE: Python\n",
      "SCORE: 0.64\n",
      "LABEL: Abstract Factory\n"
     ]
    }
   ],
   "source": [
    "print(f\"QUERY LABEL: {emb_ds[idx]['Design Pattern']}\")\n",
    "print(f\"QUERY LANG: {emb_ds[idx]['Language']}\")\n",
    "print(\n",
    "    f\"QUERY TEXT: {emb_ds[idx]['Code Example'][:200].replace(rn, nl)} [...]\\n\"\n",
    ")\n",
    "print(\"=\" * 50)\n",
    "print(\"Retrieved Documents:\")\n",
    "for score, label, text, lang in zip(\n",
    "    scores, samples[\"Design Pattern\"], samples[\"Code Example\"], samples['Language'],\n",
    "):\n",
    "    print(\"=\" * 50)\n",
    "    print(f\"TEXT:\\n{text[:200].replace(rn, nl)} [...]\")\n",
    "    print(f\"LANGUAGE: {lang}\")\n",
    "    print(f\"SCORE: {score:.2f}\")\n",
    "    print(f\"LABEL: {label}\")"
   ]
  },
  {
   "cell_type": "code",
   "execution_count": 3,
   "metadata": {},
   "outputs": [
    {
     "name": "stdout",
     "output_type": "stream",
     "text": [
      "Found model file at  ./models/ggml-model-gpt4all-falcon-q4_0.bin\n",
      "falcon_model_load: loading model from './models/ggml-model-gpt4all-falcon-q4_0.bin' - please wait ...\n",
      "falcon_model_load: n_vocab   = 65024\n",
      "falcon_model_load: n_embd    = 4544\n",
      "falcon_model_load: n_head    = 71\n",
      "falcon_model_load: n_head_kv = 1\n",
      "falcon_model_load: n_layer   = 32\n",
      "falcon_model_load: ftype     = 2\n",
      "falcon_model_load: qntvr     = 0\n",
      "falcon_model_load: ggml ctx size = 3872.64 MB\n",
      "falcon_model_load: memory_size =    32.00 MB, n_mem = 65536\n",
      "falcon_model_load: .."
     ]
    },
    {
     "name": "stderr",
     "output_type": "stream",
     "text": [
      "objc[27618]: Class GGMLMetalClass is implemented in both /Users/cbrousseau/anaconda3/envs/designpatterns/lib/python3.11/site-packages/gpt4all/llmodel_DO_NOT_MODIFY/build/libreplit-mainline-metal.dylib (0x136fcc208) and /Users/cbrousseau/anaconda3/envs/designpatterns/lib/python3.11/site-packages/gpt4all/llmodel_DO_NOT_MODIFY/build/libllamamodel-mainline-metal.dylib (0x1373f8208). One of the two will be used. Which one is undefined.\n"
     ]
    },
    {
     "name": "stdout",
     "output_type": "stream",
     "text": [
      "...................... done\n",
      "falcon_model_load: model size =  3872.59 MB / num tensors = 196\n",
      "\n",
      "The code you provided is written in Python.\n",
      "The code you provided does not follow any specific design patterns.\n"
     ]
    }
   ],
   "source": [
    "model = GPT4All(model_name='ggml-model-gpt4all-falcon-q4_0.bin', model_path=\"./models/\")\n",
    "with model.chat_session():\n",
    "    tokens = list(model.generate(prompt='You are a helpful and expert assistant who is extensively aware of all python design patterns.', max_tokens=0, streaming=True))\n",
    "    model.current_chat_session.append({'role': 'assistant', 'content': ''.join(tokens)})\n",
    "\n",
    "    tokens = list(model.generate(prompt='''Detect which programming language the following code is written in:\n",
    "                                 def dummy_function(foo, bar):\n",
    "                                    #Take foo, multiply it by bar, then return the output\n",
    "                                    out = foo * bar\n",
    "                                    return out\n",
    "                                 Respond with only the name of the programming language''', max_tokens=200, streaming=True))\n",
    "    model.current_chat_session.append({'role': 'assistant', 'content': ''.join(tokens)})\n",
    "\n",
    "    tokens = list(model.generate(prompt='''Detect which design pattern the previous code is matches most:\n",
    "                                 def dummy_function(foo, bar):\n",
    "                                    #Take foo, multiply it by bar, then return the output\n",
    "                                    out = foo * bar\n",
    "                                    return out''', max_tokens=200, streaming=True))\n",
    "    model.current_chat_session.append({'role': 'assistant', 'content': ''.join(tokens)})\n",
    "\n",
    "    for i in range(len(model.current_chat_session)):\n",
    "        if i % 2 != 0:\n",
    "            print(model.current_chat_session[i]['content'])"
   ]
  },
  {
   "cell_type": "code",
   "execution_count": 10,
   "metadata": {},
   "outputs": [
    {
     "name": "stdout",
     "output_type": "stream",
     "text": [
      "\n",
      "The code you provided is written in Python, specifically using the abstract factory design pattern.\n"
     ]
    }
   ],
   "source": [
    "with model.chat_session():\n",
    "    tokens = list(model.generate(prompt='You are a helpful and expert assistant who is extensively aware of all programming design patterns.', max_tokens=0, streaming=True))\n",
    "    model.current_chat_session.append({'role': 'assistant', 'content': ''.join(tokens)})\n",
    "\n",
    "    tokens = list(model.generate(prompt='''Detect which programming language the following code is written in and which design pattern it matches most:\n",
    "                                from __future__ import annotations\n",
    "                                from abc import ABC, abstractmethod\n",
    "\n",
    "\n",
    "                                class AbstractFactory(ABC):\n",
    "                                    \"\"\"\"\"\"\n",
    "                                    The Abstract Factory interface declares a set of methods that return\n",
    "                                    different abstract products. These products are called a family and are\n",
    "                                    related by a high-level theme or concept. Products of one family are usually\n",
    "                                    able to collaborate among themselves. A family of products may have several\n",
    "                                    variants, but the products of one variant are incompatible with products of\n",
    "                                    another.\n",
    "                                    \"\"\"\"\"\"\n",
    "                                    @abstractmethod\n",
    "                                    def create_product_a(self) -> AbstractProductA:\n",
    "                                        pass\n",
    "\n",
    "                                    @abstractmethod\n",
    "                                    def create_product_b(self) -> AbstractProductB:\n",
    "                                        pass\n",
    "\n",
    "\n",
    "                                class ConcreteFactory1(AbstractFactory):\n",
    "                                    \"\"\"\"\"\"\n",
    "                                    Concrete Factories produce a family of products that belong to a single\n",
    "                                    variant. The factory guarantees that resulting products are compatible. Note\n",
    "                                    that signatures of the Concrete Factory's methods return an abstract\n",
    "                                    product, while inside the method a concrete product is instantiated.\n",
    "                                    \"\"\"\"\"\"\n",
    "\n",
    "                                    def create_product_a(self) -> AbstractProductA:\n",
    "                                        return ConcreteProductA1()\n",
    "\n",
    "                                    def create_product_b(self) -> AbstractProductB:\n",
    "                                        return ConcreteProductB1()\n",
    "\n",
    "\n",
    "                                class ConcreteFactory2(AbstractFactory):\n",
    "                                    \"\"\"\"\"\"\n",
    "                                    Each Concrete Factory has a corresponding product variant.\n",
    "                                    \"\"\"\"\"\"\n",
    "\n",
    "                                    def create_product_a(self) -> AbstractProductA:\n",
    "                                        return ConcreteProductA2()\n",
    "\n",
    "                                    def create_product_b(self) -> AbstractProductB:\n",
    "                                        return ConcreteProductB2()\n",
    "\n",
    "\n",
    "                                class AbstractProductA(ABC):\n",
    "                                    \"\"\"\"\"\"\n",
    "                                    Each distinct product of a product family should have a base interface. All\n",
    "                                    variants of the product must implement this interface.\n",
    "                                    \"\"\"\"\"\"\n",
    "\n",
    "                                    @abstractmethod\n",
    "                                    def useful_function_a(self) -> str:\n",
    "                                        pass\n",
    "\n",
    "\n",
    "                                \"\"\"\"\"\"\n",
    "                                Concrete Products are created by corresponding Concrete Factories.\n",
    "                                \"\"\"\"\"\"\n",
    "\n",
    "\n",
    "                                class ConcreteProductA1(AbstractProductA):\n",
    "                                    def useful_function_a(self) -> str:\n",
    "                                        return \"\"The result of the product A1.\"\"\n",
    "\n",
    "\n",
    "                                class ConcreteProductA2(AbstractProductA):\n",
    "                                    def useful_function_a(self) -> str:\n",
    "                                        return \"\"The result of the product A2.\"\"\n",
    "\n",
    "\n",
    "                                class AbstractProductB(ABC):\n",
    "                                    \"\"\"\"\"\"\n",
    "                                    Here's the the base interface of another product. All products can interact\n",
    "                                    with each other, but proper interaction is possible only between products of\n",
    "                                    the same concrete variant.\n",
    "                                    \"\"\"\"\"\"\n",
    "                                    @abstractmethod\n",
    "                                    def useful_function_b(self) -> None:\n",
    "                                        \"\"\"\"\"\"\n",
    "                                        Product B is able to do its own thing...\n",
    "                                        \"\"\"\"\"\"\n",
    "                                        pass\n",
    "\n",
    "                                    @abstractmethod\n",
    "                                    def another_useful_function_b(self, collaborator: AbstractProductA) -> None:\n",
    "                                        \"\"\"\"\"\"\n",
    "                                        ...but it also can collaborate with the ProductA.\n",
    "\n",
    "                                        The Abstract Factory makes sure that all products it creates are of the\n",
    "                                        same variant and thus, compatible.\n",
    "                                        \"\"\"\"\"\"\n",
    "                                        pass\n",
    "\n",
    "\n",
    "                                \"\"\"\"\"\"\n",
    "                                Concrete Products are created by corresponding Concrete Factories.\n",
    "                                \"\"\"\"\"\"\n",
    "\n",
    "\n",
    "                                class ConcreteProductB1(AbstractProductB):\n",
    "                                    def useful_function_b(self) -> str:\n",
    "                                        return \"\"The result of the product B1.\"\"\n",
    "\n",
    "                                    \"\"\"\"\"\"\n",
    "                                    The variant, Product B1, is only able to work correctly with the variant,\n",
    "                                    Product A1. Nevertheless, it accepts any instance of AbstractProductA as an\n",
    "                                    argument.\n",
    "                                    \"\"\"\"\"\"\n",
    "\n",
    "                                    def another_useful_function_b(self, collaborator: AbstractProductA) -> str:\n",
    "                                        result = collaborator.useful_function_a()\n",
    "                                        return f\"\"The result of the B1 collaborating with the ({result})\"\"\n",
    "\n",
    "\n",
    "                                class ConcreteProductB2(AbstractProductB):\n",
    "                                    def useful_function_b(self) -> str:\n",
    "                                        return \"\"The result of the product B2.\"\"\n",
    "\n",
    "                                    def another_useful_function_b(self, collaborator: AbstractProductA):\n",
    "                                        \"\"\"\"\"\"\n",
    "                                        The variant, Product B2, is only able to work correctly with the\n",
    "                                        variant, Product A2. Nevertheless, it accepts any instance of\n",
    "                                        AbstractProductA as an argument.\n",
    "                                        \"\"\"\"\"\"\n",
    "                                        result = collaborator.useful_function_a()\n",
    "                                        return f\"\"The result of the B2 collaborating with the ({result})\"\"\n",
    "\n",
    "\n",
    "                                def client_code(factory: AbstractFactory) -> None:\n",
    "                                    \"\"\"\"\"\"\n",
    "                                    The client code works with factories and products only through abstract\n",
    "                                    types: AbstractFactory and AbstractProduct. This lets you pass any factory\n",
    "                                    or product subclass to the client code without breaking it.\n",
    "                                    \"\"\"\"\"\"\n",
    "                                    product_a = factory.create_product_a()\n",
    "                                    product_b = factory.create_product_b()\n",
    "\n",
    "                                    print(f\"\"{product_b.useful_function_b()}\"\")\n",
    "                                    print(f\"\"{product_b.another_useful_function_b(product_a)}\"\", end=\"\"\"\")\n",
    "\n",
    "\n",
    "                                if __name__ == \"\"__main__\"\":\n",
    "                                    \"\"\"\"\"\"\n",
    "                                    The client code can work with any concrete factory class.\n",
    "                                    \"\"\"\"\"\"\n",
    "                                    print(\"\"Client: Testing client code with the first factory type:\"\")\n",
    "                                    client_code(ConcreteFactory1())\n",
    "\n",
    "                                    print(\"\"\\n\"\")\n",
    "\n",
    "                                    print(\"\"Client: Testing the same client code with the second factory type:\"\")\n",
    "                                    client_code(ConcreteFactory2())\n",
    "\n",
    "                                 Respond with the name of the programming language and name the design pattern''', max_tokens=20, streaming=True))\n",
    "    model.current_chat_session.append({'role': 'assistant', 'content': ''.join(tokens)})\n",
    "\n",
    "    for i in range(len(model.current_chat_session)):\n",
    "        if i % 2 != 0:\n",
    "            print(model.current_chat_session[i]['content'])"
   ]
  },
  {
   "cell_type": "code",
   "execution_count": 4,
   "metadata": {},
   "outputs": [
    {
     "name": "stdout",
     "output_type": "stream",
     "text": [
      "\n",
      "Here's an example of the abstract factory design pattern implemented in Python:\n",
      "```python\n",
      "class ConcreteFactory(object):\n",
      "    def create_car(self, model, color, features):\n",
      "        return Car(model, color, features)\n",
      "\n",
      "class Car(object):\n",
      "    def __init__(self, model, color, features):\n",
      "        self.model = model\n",
      "        self.color = color\n",
      "        self.features = features\n",
      "```\n",
      "In this example, the abstract factory design pattern is implemented using a factory class called `ConcreteFactory` that creates instances of the `Car` class based on the specific model, color, and features passed to it. The `create_car` method takes in the model, color, and features as arguments and returns an instance of the `Car` class with those values.\n",
      "\n",
      "The `Cars` class is a concrete factory that implements the abstract factory design pattern. It creates instances of the `Car` class based on the specific model, color, and features passed to it.\n",
      "\n",
      "Here's how you can use this factory to create different types of cars:\n",
      "```python\n",
      "class ConcreteCars(object):\n",
      "    def create_car(self, model, color, features):\n",
      "        if model == \"Toyota\":\n",
      "            return Car(\"Corolla\", \"Silver\", \"Premium Package\")\n",
      "        elif model == \"Honda\":\n",
      "            return Car(\"Civic\", \"Red\", \"LX Package\")\n",
      "        else:\n",
      "            raise ValueError(\"Invalid model\")\n",
      "\n",
      "class Cars(object):\n",
      "    def __init__(self, factory_class=ConcreteCars):\n",
      "        self.factory_class = factory_class\n",
      "\n",
      "    def create_car(self, model, color, features):\n",
      "        return self.factory_class.create_car(model, color, features)\n",
      "```\n",
      "In this example, the `Cars` class is a concrete factory that implements the abstract factory design pattern. It has a `create_car` method that takes in the model, color, and features as arguments and returns an instance of the `Cars` class with those values.\n",
      "\n",
      "The `Cars` class also has a `factory_class` attribute that is set to the `ConcreteCars` factory class by default. This allows you to create different types of cars using the same factory class.\n",
      "\n",
      "\n"
     ]
    }
   ],
   "source": [
    "with model.chat_session():\n",
    "    tokens = list(model.generate(prompt='You are a helpful and expert assistant who is extensively aware of all programming design patterns.', max_tokens=0, streaming=True))\n",
    "    model.current_chat_session.append({'role': 'assistant', 'content': ''.join(tokens)})\n",
    "\n",
    "    tokens = list(model.generate(prompt='Give me an example of the abstract factory design pattern, written in python.', max_tokens=500, streaming=True))\n",
    "    model.current_chat_session.append({'role': 'assistant', 'content': ''.join(tokens)})\n",
    "\n",
    "    for i in range(len(model.current_chat_session)):\n",
    "        if i % 2 != 0:\n",
    "            print(model.current_chat_session[i]['content'])"
   ]
  },
  {
   "cell_type": "code",
   "execution_count": null,
   "metadata": {},
   "outputs": [],
   "source": []
  }
 ],
 "metadata": {
  "kernelspec": {
   "display_name": "designpatterns",
   "language": "python",
   "name": "python3"
  },
  "language_info": {
   "codemirror_mode": {
    "name": "ipython",
    "version": 3
   },
   "file_extension": ".py",
   "mimetype": "text/x-python",
   "name": "python",
   "nbconvert_exporter": "python",
   "pygments_lexer": "ipython3",
   "version": "3.11.3"
  },
  "orig_nbformat": 4
 },
 "nbformat": 4,
 "nbformat_minor": 2
}
